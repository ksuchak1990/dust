{
 "cells": [
  {
   "cell_type": "markdown",
   "metadata": {},
   "source": [
    "# StationSim profiling\n",
    "    authors: K Suchak, A. West\n",
    "    created: 2019-06-24\n",
    "    version: 0.1beta\n",
    "Thoughout the development of StationSim performance has been an issue.  Here we demonstrate how to profile the model."
   ]
  },
  {
   "cell_type": "markdown",
   "metadata": {},
   "source": [
    "## Import"
   ]
  },
  {
   "cell_type": "code",
   "execution_count": 9,
   "metadata": {},
   "outputs": [],
   "source": [
    "from sys import path\n",
    "path.append('..')\n",
    "from models.stationsim import Model\n",
    "from time import strftime, time\n",
    "id = strftime('%y%m%d_%H%M%S')\n",
    "from numpy.random import seed\n",
    "seed(1)\n",
    "\n",
    "def batch(**kwargs):\n",
    "    model = Model(**kwargs, do_history=False, do_print=False)\n",
    "    for _ in range(model.step_limit):\n",
    "        model.step()"
   ]
  },
  {
   "cell_type": "code",
   "execution_count": 13,
   "metadata": {},
   "outputs": [
    {
     "name": "stdout",
     "output_type": "stream",
     "text": [
      "1 s ± 128 ms per loop (mean ± std. dev. of 7 runs, 1 loop each)\n",
      "2.9 s ± 190 ms per loop (mean ± std. dev. of 7 runs, 1 loop each)\n",
      "33.4 s ± 1.02 s per loop (mean ± std. dev. of 7 runs, 1 loop each)\n"
     ]
    }
   ],
   "source": [
    "## Timeit\n",
    "%timeit batch(pop_total=50)\n",
    "%timeit batch()\n",
    "%timeit batch(pop_total=500)"
   ]
  },
  {
   "cell_type": "markdown",
   "metadata": {},
   "source": [
    "\n",
    "```shell\n",
    "python -m memory_profiler Profile-StationSim.py \n",
    "```\n",
    "\n",
    "```shell\n",
    "python -m cProfile -o profiling_results $1 \n",
    "python process_profile_stats.py \n",
    "rm profiling_results\n",
    "```\n",
    "\n",
    "```shell\n",
    "for number in {1..10}\n",
    "do\n",
    "    python -m cProfile -o profiling_results Model.py \n",
    "    python process_profile_stats.py \n",
    "    rm profiling_results\n",
    "done\n",
    "```\n",
    "\n",
    "```python\n",
    "import pstats\n",
    "\n",
    "stats = pstats.Stats('profiling_results')\n",
    "stats.sort_stats('tottime')\n",
    "stats.print_stats(20)\n",
    "```"
   ]
  },
  {
   "cell_type": "markdown",
   "metadata": {},
   "source": [
    "## Lerp\n",
    "Lerp no longer exists.  It'll be easy to get used to."
   ]
  },
  {
   "cell_type": "code",
   "execution_count": null,
   "metadata": {},
   "outputs": [],
   "source": []
  }
 ],
 "metadata": {
  "kernelspec": {
   "display_name": "Python 3",
   "language": "python",
   "name": "python3"
  },
  "language_info": {
   "codemirror_mode": {
    "name": "ipython",
    "version": 3
   },
   "file_extension": ".py",
   "mimetype": "text/x-python",
   "name": "python",
   "nbconvert_exporter": "python",
   "pygments_lexer": "ipython3",
   "version": "3.6.8"
  }
 },
 "nbformat": 4,
 "nbformat_minor": 2
}
