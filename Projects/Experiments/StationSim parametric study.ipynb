{
 "cells": [
  {
   "cell_type": "markdown",
   "metadata": {},
   "source": [
    "# StationSim parametric study\n",
    "    authors: A. West\n",
    "    created: 2019-06-24\n",
    "    version: 0.2 (jupyter)\n",
    "Here we'll show how to change parameters.  And try a little profiling."
   ]
  },
  {
   "cell_type": "markdown",
   "metadata": {},
   "source": [
    "## Import\n",
    "_For more information about this part read the basic experiment._  "
   ]
  },
  {
   "cell_type": "code",
   "execution_count": 1,
   "metadata": {},
   "outputs": [],
   "source": [
    "from sys import path\n",
    "path.append('..')\n",
    "from models.stationsim import Model\n",
    "from time import strftime, time\n",
    "id = strftime('%y%m%d_%H%M%S')\n",
    "from numpy.random import seed\n",
    "seed(1)"
   ]
  },
  {
   "cell_type": "markdown",
   "metadata": {},
   "source": [
    "`dict_to_csv()` converts a two layer dictionary into comma seperated string.  Useful for analysing several variables.  `roundp()` is a significant figure rounding method, use `sig_fig` for you accuracy.  \n",
    "_There is no need to understand this method._"
   ]
  },
  {
   "cell_type": "code",
   "execution_count": 2,
   "metadata": {},
   "outputs": [],
   "source": [
    "def dict_to_csv(mydict, sig_fig=16):\n",
    "    roundp = lambda x,p: float(f'%.{p-1}e'%x)\n",
    "    csv_str, lines = '', []\n",
    "    for i,row in enumerate(mydict):\n",
    "        if i==0:\n",
    "            header = ', '.join(k for k,_ in mydict[row].items()) + ',\\n'\n",
    "        line = ', '.join(f'{roundp(v, sig_fig)}' for _,v in mydict[row].items()) + f', {row}'\n",
    "        lines.append(line)\n",
    "    csv_str = header + '\\n'.join(lines)\n",
    "    return csv_str"
   ]
  },
  {
   "cell_type": "markdown",
   "metadata": {},
   "source": [
    "## Pop,Sep Study\n",
    "Since the main scale for runtime is population.  By increasing separation we can mitigate the interaction loss with a population reduction.  As if studying a smaller corridor."
   ]
  },
  {
   "cell_type": "code",
   "execution_count": 3,
   "metadata": {},
   "outputs": [],
   "source": [
    "analytics = {}\n",
    "for pop, sep in [(100, 5), (300, 3), (700, 2)]:\n",
    "    t = time()\n",
    "    model = Model(pop_total=pop, separation=sep, do_print=False)\n",
    "    for _ in range(model.step_limit):\n",
    "        model.step()\n",
    "    analytics[str(model.params_changed)] = {'Compute Time': time()-t, **model.get_analytics()}"
   ]
  },
  {
   "cell_type": "markdown",
   "metadata": {},
   "source": [
    "### Results"
   ]
  },
  {
   "cell_type": "code",
   "execution_count": 8,
   "metadata": {},
   "outputs": [
    {
     "name": "stdout",
     "output_type": "stream",
     "text": [
      "Compute Time, Finish Time, Total, Active, Finished, Time Taken, Time Expected, Time Delay, Collisions, Wiggles,\n",
      "3.124, 1913.0, 100.0, 0.0, 100.0, 579.6, 419.6, 160.0, 790.9, 54.28, {}\n",
      "9.521, 2101.0, 300.0, 0.0, 300.0, 588.5, 433.0, 155.5, 699.4, 67.66, {'pop_total': 300, 'separation': 3}\n",
      "24.79, 2161.0, 700.0, 0.0, 700.0, 618.8, 446.3, 172.6, 704.6, 84.71, {'pop_total': 700, 'separation': 2}\n",
      "5.878, 1987.0, 100.0, 0.0, 100.0, 653.2, 488.5, 164.7, 1945.0, 50.56, {'speed_steps': 9}\n",
      "3.138, 1781.0, 100.0, 0.0, 100.0, 562.9, 457.8, 105.1, 718.4, 45.63, {'speed_steps': 5}\n",
      "2.558, 2074.0, 100.0, 0.0, 100.0, 556.9, 437.6, 119.2, 406.1, 49.85, {'speed_steps': 2}\n",
      "2.221, 2114.0, 100.0, 0.0, 100.0, 545.6, 434.6, 111.0, 201.0, 66.4, {'speed_steps': 1}\n"
     ]
    }
   ],
   "source": [
    "print(dict_to_csv(analytics, 4))\n",
    "# print(csv_str, file=open(f'{id}_pop_sep_study.csv', 'w'))"
   ]
  },
  {
   "cell_type": "markdown",
   "metadata": {},
   "source": [
    "## Speeds Study\n",
    "The default average number of speeds is set to 3.  This is the number of times the agent will slow down before wiggling.  Increasing the number will increase the number of interactions/collisions, but will decrease the number of wiggles.  Furthermore, it will increase compute time linearly."
   ]
  },
  {
   "cell_type": "code",
   "execution_count": 5,
   "metadata": {},
   "outputs": [],
   "source": [
    "# analytics = {}\n",
    "for s in (9,5,2,1):\n",
    "    t = time()\n",
    "    model = Model(speed_steps=s, do_print=False)\n",
    "    for _ in range(model.step_limit):\n",
    "        model.step()\n",
    "    analytics[str(model.params_changed)] = {'Compute Time': time()-t, **model.get_analytics()}"
   ]
  },
  {
   "cell_type": "markdown",
   "metadata": {},
   "source": [
    "### Results\n",
    "By not resetting the analytics dictionary we append the new tests.  And compare a larger parameter space.  \n",
    "Although we'd expect more checks to increase runtime, it doesn't seem to add much on."
   ]
  },
  {
   "cell_type": "code",
   "execution_count": 7,
   "metadata": {},
   "outputs": [
    {
     "name": "stdout",
     "output_type": "stream",
     "text": [
      "Compute Time, Finish Time, Total, Active, Finished, Time Taken, Time Expected, Time Delay, Collisions, Wiggles,\n",
      "3.124, 1913.0, 100.0, 0.0, 100.0, 579.6, 419.6, 160.0, 790.9, 54.28, {}\n",
      "9.521, 2101.0, 300.0, 0.0, 300.0, 588.5, 433.0, 155.5, 699.4, 67.66, {'pop_total': 300, 'separation': 3}\n",
      "24.79, 2161.0, 700.0, 0.0, 700.0, 618.8, 446.3, 172.6, 704.6, 84.71, {'pop_total': 700, 'separation': 2}\n",
      "5.878, 1987.0, 100.0, 0.0, 100.0, 653.2, 488.5, 164.7, 1945.0, 50.56, {'speed_steps': 9}\n",
      "3.138, 1781.0, 100.0, 0.0, 100.0, 562.9, 457.8, 105.1, 718.4, 45.63, {'speed_steps': 5}\n",
      "2.558, 2074.0, 100.0, 0.0, 100.0, 556.9, 437.6, 119.2, 406.1, 49.85, {'speed_steps': 2}\n",
      "2.221, 2114.0, 100.0, 0.0, 100.0, 545.6, 434.6, 111.0, 201.0, 66.4, {'speed_steps': 1}\n"
     ]
    }
   ],
   "source": [
    "print(dict_to_csv(analytics, 4))\n",
    "# print(csv_str, file=open(f'{id}_speeds_study.csv', 'w'))"
   ]
  },
  {
   "cell_type": "markdown",
   "metadata": {},
   "source": [
    "## _Default Model_\n",
    "_The default model is designed to run quickly and efficiently.  Hence setting a low population and high separation._\n",
    "\n",
    "_For more information about the speed of this model, check the profiling experiments._"
   ]
  },
  {
   "cell_type": "code",
   "execution_count": null,
   "metadata": {},
   "outputs": [],
   "source": []
  }
 ],
 "metadata": {
  "kernelspec": {
   "display_name": "Python 3",
   "language": "python",
   "name": "python3"
  },
  "language_info": {
   "codemirror_mode": {
    "name": "ipython",
    "version": 3
   },
   "file_extension": ".py",
   "mimetype": "text/x-python",
   "name": "python",
   "nbconvert_exporter": "python",
   "pygments_lexer": "ipython3",
   "version": "3.6.8"
  }
 },
 "nbformat": 4,
 "nbformat_minor": 2
}
